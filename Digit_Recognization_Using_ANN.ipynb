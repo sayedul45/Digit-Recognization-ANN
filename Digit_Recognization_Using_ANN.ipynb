{
  "nbformat": 4,
  "nbformat_minor": 0,
  "metadata": {
    "colab": {
      "provenance": [],
      "gpuType": "T4"
    },
    "kernelspec": {
      "name": "python3",
      "display_name": "Python 3"
    },
    "language_info": {
      "name": "python"
    },
    "accelerator": "GPU"
  },
  "cells": [
    {
      "cell_type": "code",
      "execution_count": 1,
      "metadata": {
        "id": "yysiJREDokTU"
      },
      "outputs": [],
      "source": [
        "import tensorflow as tf\n",
        "from tensorflow import keras\n",
        "from tensorflow.keras import datasets\n",
        "import matplotlib.pyplot as plt\n",
        "import numpy as np"
      ]
    },
    {
      "cell_type": "code",
      "source": [
        "(X_train,y_train),(X_test,y_test)=datasets.mnist.load_data()"
      ],
      "metadata": {
        "colab": {
          "base_uri": "https://localhost:8080/"
        },
        "id": "irTMRTw1pN7h",
        "outputId": "2ee37619-843b-42c3-c0be-de8a4c66f543"
      },
      "execution_count": 2,
      "outputs": [
        {
          "output_type": "stream",
          "name": "stdout",
          "text": [
            "Downloading data from https://storage.googleapis.com/tensorflow/tf-keras-datasets/mnist.npz\n",
            "11490434/11490434 [==============================] - 0s 0us/step\n"
          ]
        }
      ]
    },
    {
      "cell_type": "code",
      "source": [
        "X_train.shape"
      ],
      "metadata": {
        "colab": {
          "base_uri": "https://localhost:8080/"
        },
        "id": "OZluwaZBpk4O",
        "outputId": "0df2ba5d-bc3d-4259-d007-884d5485ea08"
      },
      "execution_count": 3,
      "outputs": [
        {
          "output_type": "execute_result",
          "data": {
            "text/plain": [
              "(60000, 28, 28)"
            ]
          },
          "metadata": {},
          "execution_count": 3
        }
      ]
    },
    {
      "cell_type": "code",
      "source": [
        "len(X_test)"
      ],
      "metadata": {
        "colab": {
          "base_uri": "https://localhost:8080/"
        },
        "id": "CXDzzjcFptmF",
        "outputId": "ca8d9ec2-9a80-4b4e-b7fe-0c2dba3ccad0"
      },
      "execution_count": 4,
      "outputs": [
        {
          "output_type": "execute_result",
          "data": {
            "text/plain": [
              "10000"
            ]
          },
          "metadata": {},
          "execution_count": 4
        }
      ]
    },
    {
      "cell_type": "code",
      "source": [
        "X_train=X_train/255\n",
        "X_test=X_test/255"
      ],
      "metadata": {
        "id": "Ns5vAd2gpwPe"
      },
      "execution_count": 5,
      "outputs": []
    },
    {
      "cell_type": "code",
      "source": [
        "X_train.ndim"
      ],
      "metadata": {
        "colab": {
          "base_uri": "https://localhost:8080/"
        },
        "id": "LNwb6SLOp_9m",
        "outputId": "6fed8971-46c3-4c99-838d-df1c5171a6df"
      },
      "execution_count": 6,
      "outputs": [
        {
          "output_type": "execute_result",
          "data": {
            "text/plain": [
              "3"
            ]
          },
          "metadata": {},
          "execution_count": 6
        }
      ]
    },
    {
      "cell_type": "code",
      "source": [
        "X_train_flattend=X_train.reshape(len(X_train),28*28)\n",
        "X_test_flattend=X_test.reshape(len(X_test),28*28)"
      ],
      "metadata": {
        "id": "2Agg6XnPqJn1"
      },
      "execution_count": 7,
      "outputs": []
    },
    {
      "cell_type": "code",
      "source": [
        "X_train_flattend.shape"
      ],
      "metadata": {
        "colab": {
          "base_uri": "https://localhost:8080/"
        },
        "id": "dxVFYziHqeSW",
        "outputId": "ce3970cb-ab83-4026-9e03-902ae12f960c"
      },
      "execution_count": 8,
      "outputs": [
        {
          "output_type": "execute_result",
          "data": {
            "text/plain": [
              "(60000, 784)"
            ]
          },
          "metadata": {},
          "execution_count": 8
        }
      ]
    },
    {
      "cell_type": "code",
      "source": [
        "model=keras.Sequential([keras.layers.Dense(10,input_shape=(784,),activation='sigmoid')])"
      ],
      "metadata": {
        "id": "ie4Wn-iEqi02"
      },
      "execution_count": 11,
      "outputs": []
    },
    {
      "cell_type": "code",
      "source": [
        "model.compile(optimizer='adam',loss='sparse_categorical_crossentropy',metrics=['accuracy'])"
      ],
      "metadata": {
        "id": "MUPK6QI11HHh"
      },
      "execution_count": 12,
      "outputs": []
    },
    {
      "cell_type": "code",
      "source": [
        "model.fit(X_train_flattend,y_train,epochs=5)"
      ],
      "metadata": {
        "colab": {
          "base_uri": "https://localhost:8080/"
        },
        "id": "dK3yBWkF1yOd",
        "outputId": "4cb5d74b-4f1a-4cce-a2f8-9f78ec9591b1"
      },
      "execution_count": 13,
      "outputs": [
        {
          "output_type": "stream",
          "name": "stdout",
          "text": [
            "Epoch 1/5\n",
            "1875/1875 [==============================] - 5s 2ms/step - loss: 0.4709 - accuracy: 0.8766\n",
            "Epoch 2/5\n",
            "1875/1875 [==============================] - 4s 2ms/step - loss: 0.3038 - accuracy: 0.9156\n",
            "Epoch 3/5\n",
            "1875/1875 [==============================] - 4s 2ms/step - loss: 0.2832 - accuracy: 0.9209\n",
            "Epoch 4/5\n",
            "1875/1875 [==============================] - 4s 2ms/step - loss: 0.2731 - accuracy: 0.9237\n",
            "Epoch 5/5\n",
            "1875/1875 [==============================] - 4s 2ms/step - loss: 0.2665 - accuracy: 0.9261\n"
          ]
        },
        {
          "output_type": "execute_result",
          "data": {
            "text/plain": [
              "<keras.src.callbacks.History at 0x7bf08c1c8b80>"
            ]
          },
          "metadata": {},
          "execution_count": 13
        }
      ]
    },
    {
      "cell_type": "code",
      "source": [
        "model.evaluate(X_test_flattend,y_test)"
      ],
      "metadata": {
        "colab": {
          "base_uri": "https://localhost:8080/"
        },
        "id": "iQ32HYgZ151n",
        "outputId": "15f562e8-c61b-41db-e6eb-5863ae16e124"
      },
      "execution_count": 14,
      "outputs": [
        {
          "output_type": "stream",
          "name": "stdout",
          "text": [
            "313/313 [==============================] - 1s 2ms/step - loss: 0.2685 - accuracy: 0.9250\n"
          ]
        },
        {
          "output_type": "execute_result",
          "data": {
            "text/plain": [
              "[0.26848798990249634, 0.925000011920929]"
            ]
          },
          "metadata": {},
          "execution_count": 14
        }
      ]
    },
    {
      "cell_type": "code",
      "source": [
        "y_test[0]"
      ],
      "metadata": {
        "colab": {
          "base_uri": "https://localhost:8080/"
        },
        "id": "bLA0BSpq2Npb",
        "outputId": "95dfbe74-b21e-42eb-abab-b61be068f5f6"
      },
      "execution_count": 15,
      "outputs": [
        {
          "output_type": "execute_result",
          "data": {
            "text/plain": [
              "7"
            ]
          },
          "metadata": {},
          "execution_count": 15
        }
      ]
    },
    {
      "cell_type": "code",
      "source": [
        "plt.matshow(X_test[0])\n",
        "plt.show()"
      ],
      "metadata": {
        "colab": {
          "base_uri": "https://localhost:8080/",
          "height": 437
        },
        "id": "NFhXEA522jz_",
        "outputId": "94bcf0c5-7d96-438d-ed09-0ac9c5750d09"
      },
      "execution_count": 16,
      "outputs": [
        {
          "output_type": "display_data",
          "data": {
            "text/plain": [
              "<Figure size 480x480 with 1 Axes>"
            ],
            "image/png": "[encoded data removed]"
          },
          "metadata": {}
        }
      ]
    },
    {
      "cell_type": "code",
      "source": [
        "X_test_flattend[0]"
      ],
      "metadata": {
        "colab": {
          "base_uri": "https://localhost:8080/"
        },
        "id": "YBByrOFn2p_C",
        "outputId": "fa3bb383-9602-4855-cd56-dcad49e1c6c7"
      },
      "execution_count": 17,
      "outputs": [
        {
          "output_type": "execute_result",
          "data": {
            "text/plain": [
              "array([0.        , 0.        , 0.        , 0.        , 0.        ,\n",
              "       0.        , 0.        , 0.        , 0.        , 0.        ,\n",
              "       0.        , 0.        , 0.        , 0.        , 0.        ,\n",
              "       0.        , 0.        , 0.        , 0.        , 0.        ,\n",
              "       0.        , 0.        , 0.        , 0.        , 0.        ,\n",
              "       0.        , 0.        , 0.        , 0.        , 0.        ,\n",
              "       0.        , 0.        , 0.        , 0.        , 0.        ,\n",
              "       0.        , 0.        , 0.        , 0.        , 0.        ,\n",
              "       0.        , 0.        , 0.        , 0.        , 0.        ,\n",
              "       0.        , 0.        , 0.        , 0.        , 0.        ,\n",
              "       0.        , 0.        , 0.        , 0.        , 0.        ,\n",
              "       0.        , 0.        , 0.        , 0.        , 0.        ,\n",
              "       0.        , 0.        , 0.        , 0.        , 0.        ,\n",
              "       0.        , 0.        , 0.        , 0.        , 0.        ,\n",
              "       0.        , 0.        , 0.        , 0.        , 0.        ,\n",
              "       0.        , 0.        , 0.        , 0.        , 0.        ,\n",
              "       0.        , 0.        , 0.        , 0.        , 0.        ,\n",
              "       0.        , 0.        , 0.        , 0.        , 0.        ,\n",
              "       0.        , 0.        , 0.        , 0.        , 0.        ,\n",
              "       0.        , 0.        , 0.        , 0.        , 0.        ,\n",
              "       0.        , 0.        , 0.        , 0.        , 0.        ,\n",
              "       0.        , 0.        , 0.        , 0.        , 0.        ,\n",
              "       0.        , 0.        , 0.        , 0.        , 0.        ,\n",
              "       0.        , 0.        , 0.        , 0.        , 0.        ,\n",
              "       0.        , 0.        , 0.        , 0.        , 0.        ,\n",
              "       0.        , 0.        , 0.        , 0.        , 0.        ,\n",
              "       0.        , 0.        , 0.        , 0.        , 0.        ,\n",
              "       0.        , 0.        , 0.        , 0.        , 0.        ,\n",
              "       0.        , 0.        , 0.        , 0.        , 0.        ,\n",
              "       0.        , 0.        , 0.        , 0.        , 0.        ,\n",
              "       0.        , 0.        , 0.        , 0.        , 0.        ,\n",
              "       0.        , 0.        , 0.        , 0.        , 0.        ,\n",
              "       0.        , 0.        , 0.        , 0.        , 0.        ,\n",
              "       0.        , 0.        , 0.        , 0.        , 0.        ,\n",
              "       0.        , 0.        , 0.        , 0.        , 0.        ,\n",
              "       0.        , 0.        , 0.        , 0.        , 0.        ,\n",
              "       0.        , 0.        , 0.        , 0.        , 0.        ,\n",
              "       0.        , 0.        , 0.        , 0.        , 0.        ,\n",
              "       0.        , 0.        , 0.        , 0.        , 0.        ,\n",
              "       0.        , 0.        , 0.        , 0.        , 0.        ,\n",
              "       0.        , 0.        , 0.32941176, 0.7254902 , 0.62352941,\n",
              "       0.59215686, 0.23529412, 0.14117647, 0.        , 0.        ,\n",
              "       0.        , 0.        , 0.        , 0.        , 0.        ,\n",
              "       0.        , 0.        , 0.        , 0.        , 0.        ,\n",
              "       0.        , 0.        , 0.        , 0.        , 0.        ,\n",
              "       0.        , 0.        , 0.        , 0.        , 0.        ,\n",
              "       0.87058824, 0.99607843, 0.99607843, 0.99607843, 0.99607843,\n",
              "       0.94509804, 0.77647059, 0.77647059, 0.77647059, 0.77647059,\n",
              "       0.77647059, 0.77647059, 0.77647059, 0.77647059, 0.66666667,\n",
              "       0.20392157, 0.        , 0.        , 0.        , 0.        ,\n",
              "       0.        , 0.        , 0.        , 0.        , 0.        ,\n",
              "       0.        , 0.        , 0.        , 0.2627451 , 0.44705882,\n",
              "       0.28235294, 0.44705882, 0.63921569, 0.89019608, 0.99607843,\n",
              "       0.88235294, 0.99607843, 0.99607843, 0.99607843, 0.98039216,\n",
              "       0.89803922, 0.99607843, 0.99607843, 0.54901961, 0.        ,\n",
              "       0.        , 0.        , 0.        , 0.        , 0.        ,\n",
              "       0.        , 0.        , 0.        , 0.        , 0.        ,\n",
              "       0.        , 0.        , 0.        , 0.        , 0.        ,\n",
              "       0.        , 0.06666667, 0.25882353, 0.05490196, 0.2627451 ,\n",
              "       0.2627451 , 0.2627451 , 0.23137255, 0.08235294, 0.9254902 ,\n",
              "       0.99607843, 0.41568627, 0.        , 0.        , 0.        ,\n",
              "       0.        , 0.        , 0.        , 0.        , 0.        ,\n",
              "       0.        , 0.        , 0.        , 0.        , 0.        ,\n",
              "       0.        , 0.        , 0.        , 0.        , 0.        ,\n",
              "       0.        , 0.        , 0.        , 0.        , 0.        ,\n",
              "       0.        , 0.3254902 , 0.99215686, 0.81960784, 0.07058824,\n",
              "       0.        , 0.        , 0.        , 0.        , 0.        ,\n",
              "       0.        , 0.        , 0.        , 0.        , 0.        ,\n",
              "       0.        , 0.        , 0.        , 0.        , 0.        ,\n",
              "       0.        , 0.        , 0.        , 0.        , 0.        ,\n",
              "       0.        , 0.        , 0.        , 0.08627451, 0.91372549,\n",
              "       1.        , 0.3254902 , 0.        , 0.        , 0.        ,\n",
              "       0.        , 0.        , 0.        , 0.        , 0.        ,\n",
              "       0.        , 0.        , 0.        , 0.        , 0.        ,\n",
              "       0.        , 0.        , 0.        , 0.        , 0.        ,\n",
              "       0.        , 0.        , 0.        , 0.        , 0.        ,\n",
              "       0.        , 0.50588235, 0.99607843, 0.93333333, 0.17254902,\n",
              "       0.        , 0.        , 0.        , 0.        , 0.        ,\n",
              "       0.        , 0.        , 0.        , 0.        , 0.        ,\n",
              "       0.        , 0.        , 0.        , 0.        , 0.        ,\n",
              "       0.        , 0.        , 0.        , 0.        , 0.        ,\n",
              "       0.        , 0.        , 0.        , 0.23137255, 0.97647059,\n",
              "       0.99607843, 0.24313725, 0.        , 0.        , 0.        ,\n",
              "       0.        , 0.        , 0.        , 0.        , 0.        ,\n",
              "       0.        , 0.        , 0.        , 0.        , 0.        ,\n",
              "       0.        , 0.        , 0.        , 0.        , 0.        ,\n",
              "       0.        , 0.        , 0.        , 0.        , 0.        ,\n",
              "       0.        , 0.52156863, 0.99607843, 0.73333333, 0.01960784,\n",
              "       0.        , 0.        , 0.        , 0.        , 0.        ,\n",
              "       0.        , 0.        , 0.        , 0.        , 0.        ,\n",
              "       0.        , 0.        , 0.        , 0.        , 0.        ,\n",
              "       0.        , 0.        , 0.        , 0.        , 0.        ,\n",
              "       0.        , 0.        , 0.        , 0.03529412, 0.80392157,\n",
              "       0.97254902, 0.22745098, 0.        , 0.        , 0.        ,\n",
              "       0.        , 0.        , 0.        , 0.        , 0.        ,\n",
              "       0.        , 0.        , 0.        , 0.        , 0.        ,\n",
              "       0.        , 0.        , 0.        , 0.        , 0.        ,\n",
              "       0.        , 0.        , 0.        , 0.        , 0.        ,\n",
              "       0.        , 0.49411765, 0.99607843, 0.71372549, 0.        ,\n",
              "       0.        , 0.        , 0.        , 0.        , 0.        ,\n",
              "       0.        , 0.        , 0.        , 0.        , 0.        ,\n",
              "       0.        , 0.        , 0.        , 0.        , 0.        ,\n",
              "       0.        , 0.        , 0.        , 0.        , 0.        ,\n",
              "       0.        , 0.        , 0.        , 0.29411765, 0.98431373,\n",
              "       0.94117647, 0.22352941, 0.        , 0.        , 0.        ,\n",
              "       0.        , 0.        , 0.        , 0.        , 0.        ,\n",
              "       0.        , 0.        , 0.        , 0.        , 0.        ,\n",
              "       0.        , 0.        , 0.        , 0.        , 0.        ,\n",
              "       0.        , 0.        , 0.        , 0.        , 0.        ,\n",
              "       0.0745098 , 0.86666667, 0.99607843, 0.65098039, 0.        ,\n",
              "       0.        , 0.        , 0.        , 0.        , 0.        ,\n",
              "       0.        , 0.        , 0.        , 0.        , 0.        ,\n",
              "       0.        , 0.        , 0.        , 0.        , 0.        ,\n",
              "       0.        , 0.        , 0.        , 0.        , 0.        ,\n",
              "       0.        , 0.        , 0.01176471, 0.79607843, 0.99607843,\n",
              "       0.85882353, 0.1372549 , 0.        , 0.        , 0.        ,\n",
              "       0.        , 0.        , 0.        , 0.        , 0.        ,\n",
              "       0.        , 0.        , 0.        , 0.        , 0.        ,\n",
              "       0.        , 0.        , 0.        , 0.        , 0.        ,\n",
              "       0.        , 0.        , 0.        , 0.        , 0.        ,\n",
              "       0.14901961, 0.99607843, 0.99607843, 0.30196078, 0.        ,\n",
              "       0.        , 0.        , 0.        , 0.        , 0.        ,\n",
              "       0.        , 0.        , 0.        , 0.        , 0.        ,\n",
              "       0.        , 0.        , 0.        , 0.        , 0.        ,\n",
              "       0.        , 0.        , 0.        , 0.        , 0.        ,\n",
              "       0.        , 0.        , 0.12156863, 0.87843137, 0.99607843,\n",
              "       0.45098039, 0.00392157, 0.        , 0.        , 0.        ,\n",
              "       0.        , 0.        , 0.        , 0.        , 0.        ,\n",
              "       0.        , 0.        , 0.        , 0.        , 0.        ,\n",
              "       0.        , 0.        , 0.        , 0.        , 0.        ,\n",
              "       0.        , 0.        , 0.        , 0.        , 0.        ,\n",
              "       0.52156863, 0.99607843, 0.99607843, 0.20392157, 0.        ,\n",
              "       0.        , 0.        , 0.        , 0.        , 0.        ,\n",
              "       0.        , 0.        , 0.        , 0.        , 0.        ,\n",
              "       0.        , 0.        , 0.        , 0.        , 0.        ,\n",
              "       0.        , 0.        , 0.        , 0.        , 0.        ,\n",
              "       0.        , 0.        , 0.23921569, 0.94901961, 0.99607843,\n",
              "       0.99607843, 0.20392157, 0.        , 0.        , 0.        ,\n",
              "       0.        , 0.        , 0.        , 0.        , 0.        ,\n",
              "       0.        , 0.        , 0.        , 0.        , 0.        ,\n",
              "       0.        , 0.        , 0.        , 0.        , 0.        ,\n",
              "       0.        , 0.        , 0.        , 0.        , 0.        ,\n",
              "       0.4745098 , 0.99607843, 0.99607843, 0.85882353, 0.15686275,\n",
              "       0.        , 0.        , 0.        , 0.        , 0.        ,\n",
              "       0.        , 0.        , 0.        , 0.        , 0.        ,\n",
              "       0.        , 0.        , 0.        , 0.        , 0.        ,\n",
              "       0.        , 0.        , 0.        , 0.        , 0.        ,\n",
              "       0.        , 0.        , 0.        , 0.4745098 , 0.99607843,\n",
              "       0.81176471, 0.07058824, 0.        , 0.        , 0.        ,\n",
              "       0.        , 0.        , 0.        , 0.        , 0.        ,\n",
              "       0.        , 0.        , 0.        , 0.        , 0.        ,\n",
              "       0.        , 0.        , 0.        , 0.        , 0.        ,\n",
              "       0.        , 0.        , 0.        , 0.        , 0.        ,\n",
              "       0.        , 0.        , 0.        , 0.        , 0.        ,\n",
              "       0.        , 0.        , 0.        , 0.        , 0.        ,\n",
              "       0.        , 0.        , 0.        , 0.        , 0.        ,\n",
              "       0.        , 0.        , 0.        , 0.        ])"
            ]
          },
          "metadata": {},
          "execution_count": 17
        }
      ]
    },
    {
      "cell_type": "code",
      "source": [
        "y_predicted=model.predict(X_test_flattend)"
      ],
      "metadata": {
        "colab": {
          "base_uri": "https://localhost:8080/"
        },
        "id": "OPl8Ufxa20tK",
        "outputId": "b7055fa0-5d68-47d2-a046-80dcd48a21ae"
      },
      "execution_count": 18,
      "outputs": [
        {
          "output_type": "stream",
          "name": "stdout",
          "text": [
            "313/313 [==============================] - 1s 1ms/step\n"
          ]
        }
      ]
    },
    {
      "cell_type": "code",
      "source": [
        "y_predicted[0]"
      ],
      "metadata": {
        "colab": {
          "base_uri": "https://localhost:8080/"
        },
        "id": "kgomZhGB3Vzb",
        "outputId": "30b6f146-239d-4e62-ba94-338ddb883479"
      },
      "execution_count": 19,
      "outputs": [
        {
          "output_type": "execute_result",
          "data": {
            "text/plain": [
              "array([4.38677594e-02, 5.10470159e-07, 4.95457165e-02, 9.69730377e-01,\n",
              "       2.53374665e-03, 1.01878606e-01, 1.16222236e-06, 9.99809623e-01,\n",
              "       9.02309790e-02, 6.79355860e-01], dtype=float32)"
            ]
          },
          "metadata": {},
          "execution_count": 19
        }
      ]
    },
    {
      "cell_type": "code",
      "source": [
        "y_predicted[1]"
      ],
      "metadata": {
        "colab": {
          "base_uri": "https://localhost:8080/"
        },
        "id": "dSfnWOqL3dyf",
        "outputId": "5367e2cf-4a76-4847-dc79-ad2d6a662124"
      },
      "execution_count": 20,
      "outputs": [
        {
          "output_type": "execute_result",
          "data": {
            "text/plain": [
              "array([3.2422498e-01, 6.4618946e-03, 9.9966586e-01, 3.6368689e-01,\n",
              "       4.2556625e-10, 8.4234488e-01, 8.5477430e-01, 5.2531292e-13,\n",
              "       1.4205809e-01, 2.8383682e-09], dtype=float32)"
            ]
          },
          "metadata": {},
          "execution_count": 20
        }
      ]
    },
    {
      "cell_type": "code",
      "source": [
        "y_predicted.shape"
      ],
      "metadata": {
        "colab": {
          "base_uri": "https://localhost:8080/"
        },
        "id": "bGco4-Ft3iUJ",
        "outputId": "b6d8a039-2b80-4c9b-9761-12d51c5c7c3e"
      },
      "execution_count": 21,
      "outputs": [
        {
          "output_type": "execute_result",
          "data": {
            "text/plain": [
              "(10000, 10)"
            ]
          },
          "metadata": {},
          "execution_count": 21
        }
      ]
    },
    {
      "cell_type": "code",
      "source": [
        "y_predicted.ndim"
      ],
      "metadata": {
        "colab": {
          "base_uri": "https://localhost:8080/"
        },
        "id": "oFChCvQx3mna",
        "outputId": "2b1d7ee9-71c9-4c31-c6ff-0a804aea872f"
      },
      "execution_count": 22,
      "outputs": [
        {
          "output_type": "execute_result",
          "data": {
            "text/plain": [
              "2"
            ]
          },
          "metadata": {},
          "execution_count": 22
        }
      ]
    },
    {
      "cell_type": "code",
      "source": [
        "X_test_flattend[0]"
      ],
      "metadata": {
        "colab": {
          "base_uri": "https://localhost:8080/"
        },
        "id": "k4LqwKc65Gpq",
        "outputId": "bea7fd16-27f4-4ae5-b4cb-dcffe025f69c"
      },
      "execution_count": 24,
      "outputs": [
        {
          "output_type": "execute_result",
          "data": {
            "text/plain": [
              "array([0.        , 0.        , 0.        , 0.        , 0.        ,\n",
              "       0.        , 0.        , 0.        , 0.        , 0.        ,\n",
              "       0.        , 0.        , 0.        , 0.        , 0.        ,\n",
              "       0.        , 0.        , 0.        , 0.        , 0.        ,\n",
              "       0.        , 0.        , 0.        , 0.        , 0.        ,\n",
              "       0.        , 0.        , 0.        , 0.        , 0.        ,\n",
              "       0.        , 0.        , 0.        , 0.        , 0.        ,\n",
              "       0.        , 0.        , 0.        , 0.        , 0.        ,\n",
              "       0.        , 0.        , 0.        , 0.        , 0.        ,\n",
              "       0.        , 0.        , 0.        , 0.        , 0.        ,\n",
              "       0.        , 0.        , 0.        , 0.        , 0.        ,\n",
              "       0.        , 0.        , 0.        , 0.        , 0.        ,\n",
              "       0.        , 0.        , 0.        , 0.        , 0.        ,\n",
              "       0.        , 0.        , 0.        , 0.        , 0.        ,\n",
              "       0.        , 0.        , 0.        , 0.        , 0.        ,\n",
              "       0.        , 0.        , 0.        , 0.        , 0.        ,\n",
              "       0.        , 0.        , 0.        , 0.        , 0.        ,\n",
              "       0.        , 0.        , 0.        , 0.        , 0.        ,\n",
              "       0.        , 0.        , 0.        , 0.        , 0.        ,\n",
              "       0.        , 0.        , 0.        , 0.        , 0.        ,\n",
              "       0.        , 0.        , 0.        , 0.        , 0.        ,\n",
              "       0.        , 0.        , 0.        , 0.        , 0.        ,\n",
              "       0.        , 0.        , 0.        , 0.        , 0.        ,\n",
              "       0.        , 0.        , 0.        , 0.        , 0.        ,\n",
              "       0.        , 0.        , 0.        , 0.        , 0.        ,\n",
              "       0.        , 0.        , 0.        , 0.        , 0.        ,\n",
              "       0.        , 0.        , 0.        , 0.        , 0.        ,\n",
              "       0.        , 0.        , 0.        , 0.        , 0.        ,\n",
              "       0.        , 0.        , 0.        , 0.        , 0.        ,\n",
              "       0.        , 0.        , 0.        , 0.        , 0.        ,\n",
              "       0.        , 0.        , 0.        , 0.        , 0.        ,\n",
              "       0.        , 0.        , 0.        , 0.        , 0.        ,\n",
              "       0.        , 0.        , 0.        , 0.        , 0.        ,\n",
              "       0.        , 0.        , 0.        , 0.        , 0.        ,\n",
              "       0.        , 0.        , 0.        , 0.        , 0.        ,\n",
              "       0.        , 0.        , 0.        , 0.        , 0.        ,\n",
              "       0.        , 0.        , 0.        , 0.        , 0.        ,\n",
              "       0.        , 0.        , 0.        , 0.        , 0.        ,\n",
              "       0.        , 0.        , 0.        , 0.        , 0.        ,\n",
              "       0.        , 0.        , 0.        , 0.        , 0.        ,\n",
              "       0.        , 0.        , 0.32941176, 0.7254902 , 0.62352941,\n",
              "       0.59215686, 0.23529412, 0.14117647, 0.        , 0.        ,\n",
              "       0.        , 0.        , 0.        , 0.        , 0.        ,\n",
              "       0.        , 0.        , 0.        , 0.        , 0.        ,\n",
              "       0.        , 0.        , 0.        , 0.        , 0.        ,\n",
              "       0.        , 0.        , 0.        , 0.        , 0.        ,\n",
              "       0.87058824, 0.99607843, 0.99607843, 0.99607843, 0.99607843,\n",
              "       0.94509804, 0.77647059, 0.77647059, 0.77647059, 0.77647059,\n",
              "       0.77647059, 0.77647059, 0.77647059, 0.77647059, 0.66666667,\n",
              "       0.20392157, 0.        , 0.        , 0.        , 0.        ,\n",
              "       0.        , 0.        , 0.        , 0.        , 0.        ,\n",
              "       0.        , 0.        , 0.        , 0.2627451 , 0.44705882,\n",
              "       0.28235294, 0.44705882, 0.63921569, 0.89019608, 0.99607843,\n",
              "       0.88235294, 0.99607843, 0.99607843, 0.99607843, 0.98039216,\n",
              "       0.89803922, 0.99607843, 0.99607843, 0.54901961, 0.        ,\n",
              "       0.        , 0.        , 0.        , 0.        , 0.        ,\n",
              "       0.        , 0.        , 0.        , 0.        , 0.        ,\n",
              "       0.        , 0.        , 0.        , 0.        , 0.        ,\n",
              "       0.        , 0.06666667, 0.25882353, 0.05490196, 0.2627451 ,\n",
              "       0.2627451 , 0.2627451 , 0.23137255, 0.08235294, 0.9254902 ,\n",
              "       0.99607843, 0.41568627, 0.        , 0.        , 0.        ,\n",
              "       0.        , 0.        , 0.        , 0.        , 0.        ,\n",
              "       0.        , 0.        , 0.        , 0.        , 0.        ,\n",
              "       0.        , 0.        , 0.        , 0.        , 0.        ,\n",
              "       0.        , 0.        , 0.        , 0.        , 0.        ,\n",
              "       0.        , 0.3254902 , 0.99215686, 0.81960784, 0.07058824,\n",
              "       0.        , 0.        , 0.        , 0.        , 0.        ,\n",
              "       0.        , 0.        , 0.        , 0.        , 0.        ,\n",
              "       0.        , 0.        , 0.        , 0.        , 0.        ,\n",
              "       0.        , 0.        , 0.        , 0.        , 0.        ,\n",
              "       0.        , 0.        , 0.        , 0.08627451, 0.91372549,\n",
              "       1.        , 0.3254902 , 0.        , 0.        , 0.        ,\n",
              "       0.        , 0.        , 0.        , 0.        , 0.        ,\n",
              "       0.        , 0.        , 0.        , 0.        , 0.        ,\n",
              "       0.        , 0.        , 0.        , 0.        , 0.        ,\n",
              "       0.        , 0.        , 0.        , 0.        , 0.        ,\n",
              "       0.        , 0.50588235, 0.99607843, 0.93333333, 0.17254902,\n",
              "       0.        , 0.        , 0.        , 0.        , 0.        ,\n",
              "       0.        , 0.        , 0.        , 0.        , 0.        ,\n",
              "       0.        , 0.        , 0.        , 0.        , 0.        ,\n",
              "       0.        , 0.        , 0.        , 0.        , 0.        ,\n",
              "       0.        , 0.        , 0.        , 0.23137255, 0.97647059,\n",
              "       0.99607843, 0.24313725, 0.        , 0.        , 0.        ,\n",
              "       0.        , 0.        , 0.        , 0.        , 0.        ,\n",
              "       0.        , 0.        , 0.        , 0.        , 0.        ,\n",
              "       0.        , 0.        , 0.        , 0.        , 0.        ,\n",
              "       0.        , 0.        , 0.        , 0.        , 0.        ,\n",
              "       0.        , 0.52156863, 0.99607843, 0.73333333, 0.01960784,\n",
              "       0.        , 0.        , 0.        , 0.        , 0.        ,\n",
              "       0.        , 0.        , 0.        , 0.        , 0.        ,\n",
              "       0.        , 0.        , 0.        , 0.        , 0.        ,\n",
              "       0.        , 0.        , 0.        , 0.        , 0.        ,\n",
              "       0.        , 0.        , 0.        , 0.03529412, 0.80392157,\n",
              "       0.97254902, 0.22745098, 0.        , 0.        , 0.        ,\n",
              "       0.        , 0.        , 0.        , 0.        , 0.        ,\n",
              "       0.        , 0.        , 0.        , 0.        , 0.        ,\n",
              "       0.        , 0.        , 0.        , 0.        , 0.        ,\n",
              "       0.        , 0.        , 0.        , 0.        , 0.        ,\n",
              "       0.        , 0.49411765, 0.99607843, 0.71372549, 0.        ,\n",
              "       0.        , 0.        , 0.        , 0.        , 0.        ,\n",
              "       0.        , 0.        , 0.        , 0.        , 0.        ,\n",
              "       0.        , 0.        , 0.        , 0.        , 0.        ,\n",
              "       0.        , 0.        , 0.        , 0.        , 0.        ,\n",
              "       0.        , 0.        , 0.        , 0.29411765, 0.98431373,\n",
              "       0.94117647, 0.22352941, 0.        , 0.        , 0.        ,\n",
              "       0.        , 0.        , 0.        , 0.        , 0.        ,\n",
              "       0.        , 0.        , 0.        , 0.        , 0.        ,\n",
              "       0.        , 0.        , 0.        , 0.        , 0.        ,\n",
              "       0.        , 0.        , 0.        , 0.        , 0.        ,\n",
              "       0.0745098 , 0.86666667, 0.99607843, 0.65098039, 0.        ,\n",
              "       0.        , 0.        , 0.        , 0.        , 0.        ,\n",
              "       0.        , 0.        , 0.        , 0.        , 0.        ,\n",
              "       0.        , 0.        , 0.        , 0.        , 0.        ,\n",
              "       0.        , 0.        , 0.        , 0.        , 0.        ,\n",
              "       0.        , 0.        , 0.01176471, 0.79607843, 0.99607843,\n",
              "       0.85882353, 0.1372549 , 0.        , 0.        , 0.        ,\n",
              "       0.        , 0.        , 0.        , 0.        , 0.        ,\n",
              "       0.        , 0.        , 0.        , 0.        , 0.        ,\n",
              "       0.        , 0.        , 0.        , 0.        , 0.        ,\n",
              "       0.        , 0.        , 0.        , 0.        , 0.        ,\n",
              "       0.14901961, 0.99607843, 0.99607843, 0.30196078, 0.        ,\n",
              "       0.        , 0.        , 0.        , 0.        , 0.        ,\n",
              "       0.        , 0.        , 0.        , 0.        , 0.        ,\n",
              "       0.        , 0.        , 0.        , 0.        , 0.        ,\n",
              "       0.        , 0.        , 0.        , 0.        , 0.        ,\n",
              "       0.        , 0.        , 0.12156863, 0.87843137, 0.99607843,\n",
              "       0.45098039, 0.00392157, 0.        , 0.        , 0.        ,\n",
              "       0.        , 0.        , 0.        , 0.        , 0.        ,\n",
              "       0.        , 0.        , 0.        , 0.        , 0.        ,\n",
              "       0.        , 0.        , 0.        , 0.        , 0.        ,\n",
              "       0.        , 0.        , 0.        , 0.        , 0.        ,\n",
              "       0.52156863, 0.99607843, 0.99607843, 0.20392157, 0.        ,\n",
              "       0.        , 0.        , 0.        , 0.        , 0.        ,\n",
              "       0.        , 0.        , 0.        , 0.        , 0.        ,\n",
              "       0.        , 0.        , 0.        , 0.        , 0.        ,\n",
              "       0.        , 0.        , 0.        , 0.        , 0.        ,\n",
              "       0.        , 0.        , 0.23921569, 0.94901961, 0.99607843,\n",
              "       0.99607843, 0.20392157, 0.        , 0.        , 0.        ,\n",
              "       0.        , 0.        , 0.        , 0.        , 0.        ,\n",
              "       0.        , 0.        , 0.        , 0.        , 0.        ,\n",
              "       0.        , 0.        , 0.        , 0.        , 0.        ,\n",
              "       0.        , 0.        , 0.        , 0.        , 0.        ,\n",
              "       0.4745098 , 0.99607843, 0.99607843, 0.85882353, 0.15686275,\n",
              "       0.        , 0.        , 0.        , 0.        , 0.        ,\n",
              "       0.        , 0.        , 0.        , 0.        , 0.        ,\n",
              "       0.        , 0.        , 0.        , 0.        , 0.        ,\n",
              "       0.        , 0.        , 0.        , 0.        , 0.        ,\n",
              "       0.        , 0.        , 0.        , 0.4745098 , 0.99607843,\n",
              "       0.81176471, 0.07058824, 0.        , 0.        , 0.        ,\n",
              "       0.        , 0.        , 0.        , 0.        , 0.        ,\n",
              "       0.        , 0.        , 0.        , 0.        , 0.        ,\n",
              "       0.        , 0.        , 0.        , 0.        , 0.        ,\n",
              "       0.        , 0.        , 0.        , 0.        , 0.        ,\n",
              "       0.        , 0.        , 0.        , 0.        , 0.        ,\n",
              "       0.        , 0.        , 0.        , 0.        , 0.        ,\n",
              "       0.        , 0.        , 0.        , 0.        , 0.        ,\n",
              "       0.        , 0.        , 0.        , 0.        ])"
            ]
          },
          "metadata": {},
          "execution_count": 24
        }
      ]
    },
    {
      "cell_type": "code",
      "source": [
        "temp=model.predict(X_test_flattend[[0]])"
      ],
      "metadata": {
        "colab": {
          "base_uri": "https://localhost:8080/"
        },
        "id": "ihf6ZR-z3ue4",
        "outputId": "a125334c-b905-4aff-e7ee-d14c84a9b504"
      },
      "execution_count": 25,
      "outputs": [
        {
          "output_type": "stream",
          "name": "stdout",
          "text": [
            "1/1 [==============================] - 0s 48ms/step\n"
          ]
        }
      ]
    },
    {
      "cell_type": "code",
      "source": [
        "temp"
      ],
      "metadata": {
        "colab": {
          "base_uri": "https://localhost:8080/"
        },
        "id": "3mE98KaG5Boh",
        "outputId": "b46a5ea5-1f4d-4429-85b0-9b1ed61828de"
      },
      "execution_count": 26,
      "outputs": [
        {
          "output_type": "execute_result",
          "data": {
            "text/plain": [
              "array([[4.38677594e-02, 5.10470159e-07, 4.95457165e-02, 9.69730377e-01,\n",
              "        2.53374805e-03, 1.01878606e-01, 1.16222350e-06, 9.99809623e-01,\n",
              "        9.02309567e-02, 6.79355800e-01]], dtype=float32)"
            ]
          },
          "metadata": {},
          "execution_count": 26
        }
      ]
    },
    {
      "cell_type": "code",
      "source": [
        "temp.max()"
      ],
      "metadata": {
        "colab": {
          "base_uri": "https://localhost:8080/"
        },
        "id": "yPKWwEpI5bOx",
        "outputId": "02b1a7a9-6d16-43db-82d1-3873f50d6cd1"
      },
      "execution_count": 28,
      "outputs": [
        {
          "output_type": "execute_result",
          "data": {
            "text/plain": [
              "0.9998096"
            ]
          },
          "metadata": {},
          "execution_count": 28
        }
      ]
    },
    {
      "cell_type": "code",
      "source": [
        "temp.argmax()"
      ],
      "metadata": {
        "colab": {
          "base_uri": "https://localhost:8080/"
        },
        "id": "ESp625Ek5gv5",
        "outputId": "42e941d1-1c80-4fa8-bc28-50fb2acf24b5"
      },
      "execution_count": 29,
      "outputs": [
        {
          "output_type": "execute_result",
          "data": {
            "text/plain": [
              "7"
            ]
          },
          "metadata": {},
          "execution_count": 29
        }
      ]
    },
    {
      "cell_type": "markdown",
      "source": [
        "**np.argmax() finds the maximum element of this existing array and returns the index vallue of this**"
      ],
      "metadata": {
        "id": "2Ed9m6h552mf"
      }
    },
    {
      "cell_type": "code",
      "source": [
        "np.argmax(y_predicted[0])"
      ],
      "metadata": {
        "colab": {
          "base_uri": "https://localhost:8080/"
        },
        "id": "5AZm_ruN5ndq",
        "outputId": "566683e6-96f4-46ae-c3db-b499ae08b7d9"
      },
      "execution_count": 30,
      "outputs": [
        {
          "output_type": "execute_result",
          "data": {
            "text/plain": [
              "7"
            ]
          },
          "metadata": {},
          "execution_count": 30
        }
      ]
    },
    {
      "cell_type": "markdown",
      "source": [
        "**Using Hidden Layers**"
      ],
      "metadata": {
        "id": "2XWi0IR76vb2"
      }
    },
    {
      "cell_type": "code",
      "source": [
        "model=keras.Sequential([keras.layers.Dense(100,input_shape=(784,),activation='relu'),\n",
        "                        keras.layers.Dense(10,activation='sigmoid')\n",
        "                        ])\n",
        "\n",
        "\n",
        "model.compile(optimizer='adam',loss='sparse_categorical_crossentropy',metrics=['accuracy'])\n",
        "\n",
        "model.fit(X_train_flattend,y_train,epochs=5)"
      ],
      "metadata": {
        "colab": {
          "base_uri": "https://localhost:8080/"
        },
        "id": "ppO4w_wM6KGS",
        "outputId": "fa42542f-b130-4d35-bcb2-f6c0f829af7f"
      },
      "execution_count": 37,
      "outputs": [
        {
          "output_type": "stream",
          "name": "stdout",
          "text": [
            "Epoch 1/5\n",
            "1875/1875 [==============================] - 5s 2ms/step - loss: 0.2712 - accuracy: 0.9219\n",
            "Epoch 2/5\n",
            "1875/1875 [==============================] - 5s 3ms/step - loss: 0.1226 - accuracy: 0.9635\n",
            "Epoch 3/5\n",
            "1875/1875 [==============================] - 5s 2ms/step - loss: 0.0855 - accuracy: 0.9749\n",
            "Epoch 4/5\n",
            "1875/1875 [==============================] - 4s 2ms/step - loss: 0.0653 - accuracy: 0.9802\n",
            "Epoch 5/5\n",
            "1875/1875 [==============================] - 5s 3ms/step - loss: 0.0523 - accuracy: 0.9837\n"
          ]
        },
        {
          "output_type": "execute_result",
          "data": {
            "text/plain": [
              "<keras.src.callbacks.History at 0x7bf05d369e40>"
            ]
          },
          "metadata": {},
          "execution_count": 37
        }
      ]
    },
    {
      "cell_type": "code",
      "source": [
        "model.evaluate(X_test_flattend,y_test)"
      ],
      "metadata": {
        "colab": {
          "base_uri": "https://localhost:8080/"
        },
        "id": "P7Fxk_QE8Ati",
        "outputId": "600e39b4-1498-4918-d02c-f2316f727ee0"
      },
      "execution_count": 38,
      "outputs": [
        {
          "output_type": "stream",
          "name": "stdout",
          "text": [
            "313/313 [==============================] - 1s 3ms/step - loss: 0.0844 - accuracy: 0.9730\n"
          ]
        },
        {
          "output_type": "execute_result",
          "data": {
            "text/plain": [
              "[0.08443902432918549, 0.9729999899864197]"
            ]
          },
          "metadata": {},
          "execution_count": 38
        }
      ]
    },
    {
      "cell_type": "code",
      "source": [
        "y_predicted=model.predict(X_test_flattend)"
      ],
      "metadata": {
        "colab": {
          "base_uri": "https://localhost:8080/"
        },
        "id": "vgaE9VF09SZS",
        "outputId": "cae2c98b-867d-49d5-8a4b-ca03a5eb4298"
      },
      "execution_count": 39,
      "outputs": [
        {
          "output_type": "stream",
          "name": "stdout",
          "text": [
            "313/313 [==============================] - 0s 1ms/step\n"
          ]
        }
      ]
    },
    {
      "cell_type": "code",
      "source": [
        "import seaborn as sns\n",
        "y_predicted_labels=[np.argmax(i) for i in y_predicted]\n",
        "cm=tf.math.confusion_matrix(labels=y_test,predictions=y_predicted_labels)\n",
        "plt.figure(figsize=(10,7))\n",
        "sns.heatmap(cm,annot=True,cmap='coolwarm',fmt='d')\n",
        "plt.xlabel('predicted')\n",
        "plt.ylabel('Actual')\n",
        "plt.show()"
      ],
      "metadata": {
        "colab": {
          "base_uri": "https://localhost:8080/",
          "height": 619
        },
        "id": "NRJjrWZV9dXy",
        "outputId": "be3b9681-6dde-477b-ffa2-eaebc1f97372"
      },
      "execution_count": 40,
      "outputs": [
        {
          "output_type": "display_data",
          "data": {
            "text/plain": [
              "<Figure size 1000x700 with 2 Axes>"
            ],
            "image/png": "[encoded data removed]"
          },
          "metadata": {}
        }
      ]
    },
    {
      "cell_type": "code",
      "source": [
        "plt.matshow(X_test[0])\n",
        "plt.show()"
      ],
      "metadata": {
        "colab": {
          "base_uri": "https://localhost:8080/",
          "height": 437
        },
        "id": "QRFLaYNw-2Ib",
        "outputId": "eecbd1bd-3f17-48d2-98c9-3680df0061c9"
      },
      "execution_count": 41,
      "outputs": [
        {
          "output_type": "display_data",
          "data": {
            "text/plain": [
              "<Figure size 480x480 with 1 Axes>"
            ],
            "image/png": "[encoded data removed]"
          },
          "metadata": {}
        }
      ]
    },
    {
      "cell_type": "code",
      "source": [
        "np.argmax(y_predicted[0])"
      ],
      "metadata": {
        "colab": {
          "base_uri": "https://localhost:8080/"
        },
        "id": "ogrpKqGz_X_a",
        "outputId": "db7a80a0-d39b-4e53-d766-7cccba4d8934"
      },
      "execution_count": 43,
      "outputs": [
        {
          "output_type": "execute_result",
          "data": {
            "text/plain": [
              "7"
            ]
          },
          "metadata": {},
          "execution_count": 43
        }
      ]
    },
    {
      "cell_type": "code",
      "source": [
        "y_predicted[0]"
      ],
      "metadata": {
        "colab": {
          "base_uri": "https://localhost:8080/"
        },
        "id": "gdv2lUyt_chC",
        "outputId": "533ab4c1-340b-40b3-a1aa-c33926b5dd6b"
      },
      "execution_count": 44,
      "outputs": [
        {
          "output_type": "execute_result",
          "data": {
            "text/plain": [
              "array([2.9109862e-02, 7.4826856e-04, 2.8807873e-01, 8.4880275e-01,\n",
              "       2.1665970e-05, 2.4531287e-04, 4.3957337e-07, 9.9996340e-01,\n",
              "       3.8837288e-02, 3.2577327e-01], dtype=float32)"
            ]
          },
          "metadata": {},
          "execution_count": 44
        }
      ]
    },
    {
      "cell_type": "code",
      "source": [
        "plt.imshow(X_test[2])\n",
        "plt.show()"
      ],
      "metadata": {
        "colab": {
          "base_uri": "https://localhost:8080/",
          "height": 430
        },
        "id": "27F37SnkAddq",
        "outputId": "f2fc8fe7-f513-4e9c-c0c3-3b3dace04b40"
      },
      "execution_count": 45,
      "outputs": [
        {
          "output_type": "display_data",
          "data": {
            "text/plain": [
              "<Figure size 640x480 with 1 Axes>"
            ],
            "image/png": "[encoded data removed]"
          },
          "metadata": {}
        }
      ]
    },
    {
      "cell_type": "code",
      "source": [
        "print(y_test[2])\n",
        "print(np.argmax(y_predicted[2]))"
      ],
      "metadata": {
        "colab": {
          "base_uri": "https://localhost:8080/"
        },
        "id": "QvX99HyhAol6",
        "outputId": "3c650895-f67c-42da-adf4-521d40122250"
      },
      "execution_count": 46,
      "outputs": [
        {
          "output_type": "stream",
          "name": "stdout",
          "text": [
            "1\n",
            "1\n"
          ]
        }
      ]
    },
    {
      "cell_type": "markdown",
      "source": [
        "**Using flatten so that wo don't need to call .reshape on input dataset**"
      ],
      "metadata": {
        "id": "Z_0h-ipbB5Wl"
      }
    },
    {
      "cell_type": "code",
      "source": [
        "model2=keras.Sequential([keras.layers.Flatten(input_shape=(28,28)),\n",
        "                        keras.layers.Dense(100,activation='relu'),\n",
        "                        keras.layers.Dense(10,activation='sigmoid')\n",
        "                        ])\n",
        "\n",
        "\n",
        "model2.compile(optimizer='adam',loss='sparse_categorical_crossentropy',metrics=['accuracy'])\n",
        "\n",
        "\n",
        "model2.fit(X_train,y_train,epochs=5)"
      ],
      "metadata": {
        "colab": {
          "base_uri": "https://localhost:8080/"
        },
        "id": "A5_mVTRFA1lS",
        "outputId": "c2b2c303-fc8f-44bd-b618-ee0bf5e62694"
      },
      "execution_count": 47,
      "outputs": [
        {
          "output_type": "stream",
          "name": "stdout",
          "text": [
            "Epoch 1/5\n",
            "1875/1875 [==============================] - 9s 4ms/step - loss: 0.2707 - accuracy: 0.9228\n",
            "Epoch 2/5\n",
            "1875/1875 [==============================] - 6s 3ms/step - loss: 0.1246 - accuracy: 0.9622\n",
            "Epoch 3/5\n",
            "1875/1875 [==============================] - 4s 2ms/step - loss: 0.0872 - accuracy: 0.9732\n",
            "Epoch 4/5\n",
            "1875/1875 [==============================] - 6s 3ms/step - loss: 0.0676 - accuracy: 0.9793\n",
            "Epoch 5/5\n",
            "1875/1875 [==============================] - 4s 2ms/step - loss: 0.0521 - accuracy: 0.9837\n"
          ]
        },
        {
          "output_type": "execute_result",
          "data": {
            "text/plain": [
              "<keras.src.callbacks.History at 0x7bf0752971c0>"
            ]
          },
          "metadata": {},
          "execution_count": 47
        }
      ]
    },
    {
      "cell_type": "code",
      "source": [
        "model2.evaluate(X_test,y_test)"
      ],
      "metadata": {
        "colab": {
          "base_uri": "https://localhost:8080/"
        },
        "id": "PTVeqS8FGs5J",
        "outputId": "cf3a0d60-f8b1-42ef-93bf-5a8de976710b"
      },
      "execution_count": 48,
      "outputs": [
        {
          "output_type": "stream",
          "name": "stdout",
          "text": [
            "313/313 [==============================] - 1s 3ms/step - loss: 0.0753 - accuracy: 0.9771\n"
          ]
        },
        {
          "output_type": "execute_result",
          "data": {
            "text/plain": [
              "[0.07530535012483597, 0.9771000146865845]"
            ]
          },
          "metadata": {},
          "execution_count": 48
        }
      ]
    },
    {
      "cell_type": "markdown",
      "source": [
        "**Hard Disk Image**"
      ],
      "metadata": {
        "id": "YggB7pDILMLj"
      }
    },
    {
      "cell_type": "code",
      "source": [
        "import cv2"
      ],
      "metadata": {
        "id": "hEKhsJBrLnaS"
      },
      "execution_count": 49,
      "outputs": []
    },
    {
      "cell_type": "code",
      "source": [
        "modified_image=cv2.imread('/content/modified.PNG',cv2.IMREAD_GRAYSCALE)\n",
        "modified_image"
      ],
      "metadata": {
        "colab": {
          "base_uri": "https://localhost:8080/",
          "height": 427
        },
        "id": "b_1ekT0UG6mT",
        "outputId": "b5762819-6187-4419-e9e6-f3558a6827f6"
      },
      "execution_count": 54,
      "outputs": [
        {
          "output_type": "execute_result",
          "data": {
            "text/plain": [
              "array([[255, 255, 255, ..., 255, 255, 255],\n",
              "       [255, 255, 255, ..., 255, 255, 255],\n",
              "       [255, 255, 255, ..., 255, 255, 255],\n",
              "       ...,\n",
              "       [255, 255, 255, ..., 255, 255, 255],\n",
              "       [255, 255, 255, ..., 255, 255, 255],\n",
              "       [255, 255, 255, ..., 255, 255, 255]], dtype=uint8)"
            ],
            "text/html": [
              "<style>\n",
              "      .ndarray_repr .ndarray_raw_data {\n",
              "        display: none;\n",
              "      }\n",
              "      .ndarray_repr.show_array .ndarray_raw_data {\n",
              "        display: block;\n",
              "      }\n",
              "      .ndarray_repr.show_array .ndarray_image_preview {\n",
              "        display: none;\n",
              "      }\n",
              "      </style>\n",
              "      <div id=\"id-0026b8b4-5523-496a-8108-b80fd44ee1a4\" class=\"ndarray_repr\"><pre>ndarray (387, 386) <button style=\"padding: 0 2px;\">show data</button></pre><img src=\"data:image/png;base64,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\" class=\"ndarray_image_preview\" /><pre class=\"ndarray_raw_data\">array([[255, 255, 255, ..., 255, 255, 255],\n",
              "       [255, 255, 255, ..., 255, 255, 255],\n",
              "       [255, 255, 255, ..., 255, 255, 255],\n",
              "       ...,\n",
              "       [255, 255, 255, ..., 255, 255, 255],\n",
              "       [255, 255, 255, ..., 255, 255, 255],\n",
              "       [255, 255, 255, ..., 255, 255, 255]], dtype=uint8)</pre></div><script>\n",
              "      (() => {\n",
              "      const titles = ['show data', 'hide data'];\n",
              "      let index = 0\n",
              "      document.querySelector('#id-0026b8b4-5523-496a-8108-b80fd44ee1a4 button').onclick = (e) => {\n",
              "        document.querySelector('#id-0026b8b4-5523-496a-8108-b80fd44ee1a4').classList.toggle('show_array');\n",
              "        index = (++index) % 2;\n",
              "        document.querySelector('#id-0026b8b4-5523-496a-8108-b80fd44ee1a4 button').textContent = titles[index];\n",
              "        e.preventDefault();\n",
              "        e.stopPropagation();\n",
              "      }\n",
              "      })();\n",
              "    </script>"
            ]
          },
          "metadata": {},
          "execution_count": 54
        }
      ]
    },
    {
      "cell_type": "code",
      "source": [
        "modified_image.shape"
      ],
      "metadata": {
        "colab": {
          "base_uri": "https://localhost:8080/"
        },
        "id": "vEtv3_2jMdk9",
        "outputId": "a333c2fb-89f9-4584-994f-6096f06d554c"
      },
      "execution_count": 55,
      "outputs": [
        {
          "output_type": "execute_result",
          "data": {
            "text/plain": [
              "(387, 386)"
            ]
          },
          "metadata": {},
          "execution_count": 55
        }
      ]
    },
    {
      "cell_type": "code",
      "source": [
        "plt.imshow(modified_image,cmap='gray')"
      ],
      "metadata": {
        "colab": {
          "base_uri": "https://localhost:8080/",
          "height": 452
        },
        "id": "eIXJ7x1FL3ZC",
        "outputId": "387e534f-edfd-4dd6-8ce4-4f1420e3a625"
      },
      "execution_count": 56,
      "outputs": [
        {
          "output_type": "execute_result",
          "data": {
            "text/plain": [
              "<matplotlib.image.AxesImage at 0x7bf074be2500>"
            ]
          },
          "metadata": {},
          "execution_count": 56
        },
        {
          "output_type": "display_data",
          "data": {
            "text/plain": [
              "<Figure size 640x480 with 1 Axes>"
            ],
            "image/png": "[encoded data removed]"
          },
          "metadata": {}
        }
      ]
    },
    {
      "cell_type": "code",
      "source": [
        "img_resizedM=cv2.bitwise_not(modified_image)\n",
        "img_resizedM"
      ],
      "metadata": {
        "colab": {
          "base_uri": "https://localhost:8080/",
          "height": 427
        },
        "id": "re4futYrL_1b",
        "outputId": "01f45a91-fb60-4096-92fe-e0b93ebd4434"
      },
      "execution_count": 58,
      "outputs": [
        {
          "output_type": "execute_result",
          "data": {
            "text/plain": [
              "array([[0, 0, 0, ..., 0, 0, 0],\n",
              "       [0, 0, 0, ..., 0, 0, 0],\n",
              "       [0, 0, 0, ..., 0, 0, 0],\n",
              "       ...,\n",
              "       [0, 0, 0, ..., 0, 0, 0],\n",
              "       [0, 0, 0, ..., 0, 0, 0],\n",
              "       [0, 0, 0, ..., 0, 0, 0]], dtype=uint8)"
            ],
            "text/html": [
              "<style>\n",
              "      .ndarray_repr .ndarray_raw_data {\n",
              "        display: none;\n",
              "      }\n",
              "      .ndarray_repr.show_array .ndarray_raw_data {\n",
              "        display: block;\n",
              "      }\n",
              "      .ndarray_repr.show_array .ndarray_image_preview {\n",
              "        display: none;\n",
              "      }\n",
              "      </style>\n",
              "      <div id=\"id-1749f6d8-6b3d-45a8-af88-3c56fe219455\" class=\"ndarray_repr\"><pre>ndarray (387, 386) <button style=\"padding: 0 2px;\">show data</button></pre><img src=\"data:image/png;base64,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\" class=\"ndarray_image_preview\" /><pre class=\"ndarray_raw_data\">array([[0, 0, 0, ..., 0, 0, 0],\n",
              "       [0, 0, 0, ..., 0, 0, 0],\n",
              "       [0, 0, 0, ..., 0, 0, 0],\n",
              "       ...,\n",
              "       [0, 0, 0, ..., 0, 0, 0],\n",
              "       [0, 0, 0, ..., 0, 0, 0],\n",
              "       [0, 0, 0, ..., 0, 0, 0]], dtype=uint8)</pre></div><script>\n",
              "      (() => {\n",
              "      const titles = ['show data', 'hide data'];\n",
              "      let index = 0\n",
              "      document.querySelector('#id-1749f6d8-6b3d-45a8-af88-3c56fe219455 button').onclick = (e) => {\n",
              "        document.querySelector('#id-1749f6d8-6b3d-45a8-af88-3c56fe219455').classList.toggle('show_array');\n",
              "        index = (++index) % 2;\n",
              "        document.querySelector('#id-1749f6d8-6b3d-45a8-af88-3c56fe219455 button').textContent = titles[index];\n",
              "        e.preventDefault();\n",
              "        e.stopPropagation();\n",
              "      }\n",
              "      })();\n",
              "    </script>"
            ]
          },
          "metadata": {},
          "execution_count": 58
        }
      ]
    },
    {
      "cell_type": "code",
      "source": [
        "plt.imshow(img_resizedM,cmap='gray')"
      ],
      "metadata": {
        "colab": {
          "base_uri": "https://localhost:8080/",
          "height": 452
        },
        "id": "pfCUlulLM5Hz",
        "outputId": "ed1f3652-b389-45f5-b18a-43b838969b6d"
      },
      "execution_count": 61,
      "outputs": [
        {
          "output_type": "execute_result",
          "data": {
            "text/plain": [
              "<matplotlib.image.AxesImage at 0x7bf074ab1e40>"
            ]
          },
          "metadata": {},
          "execution_count": 61
        },
        {
          "output_type": "display_data",
          "data": {
            "text/plain": [
              "<Figure size 640x480 with 1 Axes>"
            ],
            "image/png": "[encoded data removed]"
          },
          "metadata": {}
        }
      ]
    },
    {
      "cell_type": "code",
      "source": [
        "img_resize=cv2.resize(img_resizedM,(28,28),interpolation=cv2.INTER_LINEAR)\n",
        "img_resize"
      ],
      "metadata": {
        "colab": {
          "base_uri": "https://localhost:8080/",
          "height": 68
        },
        "id": "jTaJoK5JN2Xj",
        "outputId": "ee44352c-c9d3-48f7-b1f0-17f94ca13e9a"
      },
      "execution_count": 62,
      "outputs": [
        {
          "output_type": "execute_result",
          "data": {
            "text/plain": [
              "array([[  0,   0,   0,   0,   0,   0,   0,   0,   0,   0,   0,   0,   0,\n",
              "          0,   0,   0,   0,   0,   0,   0,   0,   0,   0,   0,   0,   0,\n",
              "          0,   0],\n",
              "       [  0,   0,   0,   0,   0,   0,   0,   0,   0,   0,   0,   0,   0,\n",
              "          0,   0,   0,   0,   0,   0,   0,   0,   0,   0,   0,   0,   0,\n",
              "          0,   0],\n",
              "       [  0,   0,   0,   0,   0,   0,   0,   0,   0,   0,   0,   0,   0,\n",
              "          0,   0,   0,   0,   0,   0,   0,   0,   0,   0,   0,   0,   0,\n",
              "          0,   0],\n",
              "       [  0,   0,   0,   0,   0,   0,   0,   0,   0,   0,   0,   0,   0,\n",
              "          0,   0,   0,   0,   0,   0,   0,   0,   0,   0,   0,   0,   0,\n",
              "          0,   0],\n",
              "       [  0,   0,   0,   0,   0,   0,   0,   0,   0,   0,   0,   0,   0,\n",
              "          0,   0,   0,   0,   0,   0,   0,   0,   0,   0,   0,   0,   0,\n",
              "          0,   0],\n",
              "       [  0,   0,   0,   0,   0,   0,   0,   0,   0,   0,   0,   0,   0,\n",
              "          0,   0,   0, 214,   0,   0,   0,   0,   0,   0,   0,   0,   0,\n",
              "          0,   0],\n",
              "       [  0,   0,   0,   0,   0,   0,   0,   0,   0,   0,   0,   0,   0,\n",
              "          0,   0,   0, 216,   0,   0,   0,   0,   0,   0,   0,   0,   0,\n",
              "          0,   0],\n",
              "       [  0,   0,   0,   0,   0,   0,   0, 122,   0,   0,   0,   0,   0,\n",
              "          0,   0,   0, 213,   0,   0,   0,   0,   0,   0,   0,   0,   0,\n",
              "          0,   0],\n",
              "       [  0,   0,   0,   0,   0,   0,   0, 178,   0,   0,   0,   0,   0,\n",
              "          0,   0,   0, 216,   0,   0,   0,   0,   0,   0,   0,   0,   0,\n",
              "          0,   0],\n",
              "       [  0,   0,   0,   0,   0,   0,  18, 160,   0,   0,   0,   0,   0,\n",
              "          0,   0,   0, 212, 112,   0,   0,   0,   0,   0,   0,   0,   0,\n",
              "          0,   0],\n",
              "       [  0,   0,   0,   0,   0,   0, 170, 146,   0,   0,   0,   0,   0,\n",
              "          0,   0,   0, 212, 149,   0,   0,   0,   0,   0,   0,   0,   0,\n",
              "          0,   0],\n",
              "       [  0,   0,   0,   0,   0,   0, 185, 132,   0,   0,   0,   0,   0,\n",
              "          0, 104, 147, 224, 208,   0,   0,   0,   0,   0,   0,   0,   0,\n",
              "          0,   0],\n",
              "       [  0,   0,   0,   0,   0,   0, 198, 127,   0,   0,   0,   0,  34,\n",
              "        205, 207, 177, 210, 161,   0,   0,   0,   0,   0,   0,   0,   0,\n",
              "          0,   0],\n",
              "       [  0,   0,   0,   0,   0,   0, 197, 126,   0,   0, 161, 205, 171,\n",
              "        120,   0,   0, 158, 178,   0,   0,   0,   0,   0,   0,   0,   0,\n",
              "          0,   0],\n",
              "       [  0,   0,   0,   0,   0,   0, 177, 201, 201, 211, 158,   0,   0,\n",
              "          0,   0,   0,   0, 195,   0,   0,   0,   0,   0,   0,   0,   0,\n",
              "          0,   0],\n",
              "       [  0,   0,   0,   0,   0,   0,   0,   0,   0,   0,   0,   0,   0,\n",
              "          0,   0,   0,   0, 203,   0,   0,   0,   0,   0,   0,   0,   0,\n",
              "          0,   0],\n",
              "       [  0,   0,   0,   0,   0,   0,   0,   0,   0,   0,   0,   0,   0,\n",
              "          0,   0,   0,   0, 209,   0,   0,   0,   0,   0,   0,   0,   0,\n",
              "          0,   0],\n",
              "       [  0,   0,   0,   0,   0,   0,   0,   0,   0,   0,   0,   0,   0,\n",
              "          0,   0,   0,   0, 212,   0,   0,   0,   0,   0,   0,   0,   0,\n",
              "          0,   0],\n",
              "       [  0,   0,   0,   0,   0,   0,   0,   0,   0,   0,   0,   0,   0,\n",
              "          0,   0,   0,   0, 212,   0,   0,   0,   0,   0,   0,   0,   0,\n",
              "          0,   0],\n",
              "       [  0,   0,   0,   0,   0,   0,   0,   0,   0,   0,   0,   0,   0,\n",
              "          0,   0,   0,   0, 211,   0,   0,   0,   0,   0,   0,   0,   0,\n",
              "          0,   0],\n",
              "       [  0,   0,   0,   0,   0,   0,   0,   0,   0,   0,   0,   0,   0,\n",
              "          0,   0,   0,   0, 207,  61,   0,   0,   0,   0,   0,   0,   0,\n",
              "          0,   0],\n",
              "       [  0,   0,   0,   0,   0,   0,   0,   0,   0,   0,   0,   0,   0,\n",
              "          0,   0,   0,   0, 191, 169,   0,   0,   0,   0,   0,   0,   0,\n",
              "          0,   0],\n",
              "       [  0,   0,   0,   0,   0,   0,   0,   0,   0,   0,   0,   0,   0,\n",
              "          0,   0,   0,   0, 169, 192,   0,   0,   0,   0,   0,   0,   0,\n",
              "          0,   0],\n",
              "       [  0,   0,   0,   0,   0,   0,   0,   0,   0,   0,   0,   0,   0,\n",
              "          0,   0,   0,   0, 161, 213,   0,   0,   0,   0,   0,   0,   0,\n",
              "          0,   0],\n",
              "       [  0,   0,   0,   0,   0,   0,   0,   0,   0,   0,   0,   0,   0,\n",
              "          0,   0,   0,   0,   0,   0,   0,   0,   0,   0,   0,   0,   0,\n",
              "          0,   0],\n",
              "       [  0,   0,   0,   0,   0,   0,   0,   0,   0,   0,   0,   0,   0,\n",
              "          0,   0,   0,   0,   0,   0,   0,   0,   0,   0,   0,   0,   0,\n",
              "          0,   0],\n",
              "       [  0,   0,   0,   0,   0,   0,   0,   0,   0,   0,   0,   0,   0,\n",
              "          0,   0,   0,   0,   0,   0,   0,   0,   0,   0,   0,   0,   0,\n",
              "          0,   0],\n",
              "       [  0,   0,   0,   0,   0,   0,   0,   0,   0,   0,   0,   0,   0,\n",
              "          0,   0,   0,   0,   0,   0,   0,   0,   0,   0,   0,   0,   0,\n",
              "          0,   0]], dtype=uint8)"
            ],
            "text/html": [
              "<style>\n",
              "      .ndarray_repr .ndarray_raw_data {\n",
              "        display: none;\n",
              "      }\n",
              "      .ndarray_repr.show_array .ndarray_raw_data {\n",
              "        display: block;\n",
              "      }\n",
              "      .ndarray_repr.show_array .ndarray_image_preview {\n",
              "        display: none;\n",
              "      }\n",
              "      </style>\n",
              "      <div id=\"id-c633d80b-0fba-4f68-b3f5-4a3a0ff77b72\" class=\"ndarray_repr\"><pre>ndarray (28, 28) <button style=\"padding: 0 2px;\">show data</button></pre><img src=\"data:image/png;base64,iVBORw0KGgoAAAANSUhEUgAAABwAAAAcCAAAAABXZoBIAAAAkklEQVR4nGNgGOzgGhKbCV2SCQu7CibwF4ukBUyAGVNS6B1M4E8BhuSMT3ARVYQkC4TivwWhM7R5rDEkeX8zMDAwKK1mevTpIobk//8MDAt17q3uYJgngpBkhFAbJRi4TicxMDAwMBy2ZcANTmO4Fgmw4ZNkxifJgE/yPz7JP7Z4JD/k4JF8JY5H8ocobhfSAQAAAcccEPv1uWYAAAAASUVORK5CYII=\" class=\"ndarray_image_preview\" /><pre class=\"ndarray_raw_data\">array([[  0,   0,   0,   0,   0,   0,   0,   0,   0,   0,   0,   0,   0,\n",
              "          0,   0,   0,   0,   0,   0,   0,   0,   0,   0,   0,   0,   0,\n",
              "          0,   0],\n",
              "       [  0,   0,   0,   0,   0,   0,   0,   0,   0,   0,   0,   0,   0,\n",
              "          0,   0,   0,   0,   0,   0,   0,   0,   0,   0,   0,   0,   0,\n",
              "          0,   0],\n",
              "       [  0,   0,   0,   0,   0,   0,   0,   0,   0,   0,   0,   0,   0,\n",
              "          0,   0,   0,   0,   0,   0,   0,   0,   0,   0,   0,   0,   0,\n",
              "          0,   0],\n",
              "       [  0,   0,   0,   0,   0,   0,   0,   0,   0,   0,   0,   0,   0,\n",
              "          0,   0,   0,   0,   0,   0,   0,   0,   0,   0,   0,   0,   0,\n",
              "          0,   0],\n",
              "       [  0,   0,   0,   0,   0,   0,   0,   0,   0,   0,   0,   0,   0,\n",
              "          0,   0,   0,   0,   0,   0,   0,   0,   0,   0,   0,   0,   0,\n",
              "          0,   0],\n",
              "       [  0,   0,   0,   0,   0,   0,   0,   0,   0,   0,   0,   0,   0,\n",
              "          0,   0,   0, 214,   0,   0,   0,   0,   0,   0,   0,   0,   0,\n",
              "          0,   0],\n",
              "       [  0,   0,   0,   0,   0,   0,   0,   0,   0,   0,   0,   0,   0,\n",
              "          0,   0,   0, 216,   0,   0,   0,   0,   0,   0,   0,   0,   0,\n",
              "          0,   0],\n",
              "       [  0,   0,   0,   0,   0,   0,   0, 122,   0,   0,   0,   0,   0,\n",
              "          0,   0,   0, 213,   0,   0,   0,   0,   0,   0,   0,   0,   0,\n",
              "          0,   0],\n",
              "       [  0,   0,   0,   0,   0,   0,   0, 178,   0,   0,   0,   0,   0,\n",
              "          0,   0,   0, 216,   0,   0,   0,   0,   0,   0,   0,   0,   0,\n",
              "          0,   0],\n",
              "       [  0,   0,   0,   0,   0,   0,  18, 160,   0,   0,   0,   0,   0,\n",
              "          0,   0,   0, 212, 112,   0,   0,   0,   0,   0,   0,   0,   0,\n",
              "          0,   0],\n",
              "       [  0,   0,   0,   0,   0,   0, 170, 146,   0,   0,   0,   0,   0,\n",
              "          0,   0,   0, 212, 149,   0,   0,   0,   0,   0,   0,   0,   0,\n",
              "          0,   0],\n",
              "       [  0,   0,   0,   0,   0,   0, 185, 132,   0,   0,   0,   0,   0,\n",
              "          0, 104, 147, 224, 208,   0,   0,   0,   0,   0,   0,   0,   0,\n",
              "          0,   0],\n",
              "       [  0,   0,   0,   0,   0,   0, 198, 127,   0,   0,   0,   0,  34,\n",
              "        205, 207, 177, 210, 161,   0,   0,   0,   0,   0,   0,   0,   0,\n",
              "          0,   0],\n",
              "       [  0,   0,   0,   0,   0,   0, 197, 126,   0,   0, 161, 205, 171,\n",
              "        120,   0,   0, 158, 178,   0,   0,   0,   0,   0,   0,   0,   0,\n",
              "          0,   0],\n",
              "       [  0,   0,   0,   0,   0,   0, 177, 201, 201, 211, 158,   0,   0,\n",
              "          0,   0,   0,   0, 195,   0,   0,   0,   0,   0,   0,   0,   0,\n",
              "          0,   0],\n",
              "       [  0,   0,   0,   0,   0,   0,   0,   0,   0,   0,   0,   0,   0,\n",
              "          0,   0,   0,   0, 203,   0,   0,   0,   0,   0,   0,   0,   0,\n",
              "          0,   0],\n",
              "       [  0,   0,   0,   0,   0,   0,   0,   0,   0,   0,   0,   0,   0,\n",
              "          0,   0,   0,   0, 209,   0,   0,   0,   0,   0,   0,   0,   0,\n",
              "          0,   0],\n",
              "       [  0,   0,   0,   0,   0,   0,   0,   0,   0,   0,   0,   0,   0,\n",
              "          0,   0,   0,   0, 212,   0,   0,   0,   0,   0,   0,   0,   0,\n",
              "          0,   0],\n",
              "       [  0,   0,   0,   0,   0,   0,   0,   0,   0,   0,   0,   0,   0,\n",
              "          0,   0,   0,   0, 212,   0,   0,   0,   0,   0,   0,   0,   0,\n",
              "          0,   0],\n",
              "       [  0,   0,   0,   0,   0,   0,   0,   0,   0,   0,   0,   0,   0,\n",
              "          0,   0,   0,   0, 211,   0,   0,   0,   0,   0,   0,   0,   0,\n",
              "          0,   0],\n",
              "       [  0,   0,   0,   0,   0,   0,   0,   0,   0,   0,   0,   0,   0,\n",
              "          0,   0,   0,   0, 207,  61,   0,   0,   0,   0,   0,   0,   0,\n",
              "          0,   0],\n",
              "       [  0,   0,   0,   0,   0,   0,   0,   0,   0,   0,   0,   0,   0,\n",
              "          0,   0,   0,   0, 191, 169,   0,   0,   0,   0,   0,   0,   0,\n",
              "          0,   0],\n",
              "       [  0,   0,   0,   0,   0,   0,   0,   0,   0,   0,   0,   0,   0,\n",
              "          0,   0,   0,   0, 169, 192,   0,   0,   0,   0,   0,   0,   0,\n",
              "          0,   0],\n",
              "       [  0,   0,   0,   0,   0,   0,   0,   0,   0,   0,   0,   0,   0,\n",
              "          0,   0,   0,   0, 161, 213,   0,   0,   0,   0,   0,   0,   0,\n",
              "          0,   0],\n",
              "       [  0,   0,   0,   0,   0,   0,   0,   0,   0,   0,   0,   0,   0,\n",
              "          0,   0,   0,   0,   0,   0,   0,   0,   0,   0,   0,   0,   0,\n",
              "          0,   0],\n",
              "       [  0,   0,   0,   0,   0,   0,   0,   0,   0,   0,   0,   0,   0,\n",
              "          0,   0,   0,   0,   0,   0,   0,   0,   0,   0,   0,   0,   0,\n",
              "          0,   0],\n",
              "       [  0,   0,   0,   0,   0,   0,   0,   0,   0,   0,   0,   0,   0,\n",
              "          0,   0,   0,   0,   0,   0,   0,   0,   0,   0,   0,   0,   0,\n",
              "          0,   0],\n",
              "       [  0,   0,   0,   0,   0,   0,   0,   0,   0,   0,   0,   0,   0,\n",
              "          0,   0,   0,   0,   0,   0,   0,   0,   0,   0,   0,   0,   0,\n",
              "          0,   0]], dtype=uint8)</pre></div><script>\n",
              "      (() => {\n",
              "      const titles = ['show data', 'hide data'];\n",
              "      let index = 0\n",
              "      document.querySelector('#id-c633d80b-0fba-4f68-b3f5-4a3a0ff77b72 button').onclick = (e) => {\n",
              "        document.querySelector('#id-c633d80b-0fba-4f68-b3f5-4a3a0ff77b72').classList.toggle('show_array');\n",
              "        index = (++index) % 2;\n",
              "        document.querySelector('#id-c633d80b-0fba-4f68-b3f5-4a3a0ff77b72 button').textContent = titles[index];\n",
              "        e.preventDefault();\n",
              "        e.stopPropagation();\n",
              "      }\n",
              "      })();\n",
              "    </script>"
            ]
          },
          "metadata": {},
          "execution_count": 62
        }
      ]
    },
    {
      "cell_type": "code",
      "source": [
        "img_resize.shape"
      ],
      "metadata": {
        "colab": {
          "base_uri": "https://localhost:8080/"
        },
        "id": "x6vEplbuO9Sz",
        "outputId": "0a1ff5f7-1401-4d67-da72-244e653cdd50"
      },
      "execution_count": 63,
      "outputs": [
        {
          "output_type": "execute_result",
          "data": {
            "text/plain": [
              "(28, 28)"
            ]
          },
          "metadata": {},
          "execution_count": 63
        }
      ]
    },
    {
      "cell_type": "code",
      "source": [
        "plt.imshow(img_resize,cmap='gray')\n",
        "plt.show()"
      ],
      "metadata": {
        "colab": {
          "base_uri": "https://localhost:8080/",
          "height": 430
        },
        "id": "UH-iBLLSPOeT",
        "outputId": "f61ee3e1-6430-4f5e-f070-2c9fe0cbc0f2"
      },
      "execution_count": 64,
      "outputs": [
        {
          "output_type": "display_data",
          "data": {
            "text/plain": [
              "<Figure size 640x480 with 1 Axes>"
            ],
            "image/png": "[encoded data removed]"
          },
          "metadata": {}
        }
      ]
    },
    {
      "cell_type": "code",
      "source": [
        "img_resize=img_resize/255\n",
        "img_resize"
      ],
      "metadata": {
        "colab": {
          "base_uri": "https://localhost:8080/"
        },
        "id": "GzdtFE79PXXF",
        "outputId": "7df7fa8f-ea44-4f15-f99c-57c902945621"
      },
      "execution_count": 65,
      "outputs": [
        {
          "output_type": "execute_result",
          "data": {
            "text/plain": [
              "array([[0.        , 0.        , 0.        , 0.        , 0.        ,\n",
              "        0.        , 0.        , 0.        , 0.        , 0.        ,\n",
              "        0.        , 0.        , 0.        , 0.        , 0.        ,\n",
              "        0.        , 0.        , 0.        , 0.        , 0.        ,\n",
              "        0.        , 0.        , 0.        , 0.        , 0.        ,\n",
              "        0.        , 0.        , 0.        ],\n",
              "       [0.        , 0.        , 0.        , 0.        , 0.        ,\n",
              "        0.        , 0.        , 0.        , 0.        , 0.        ,\n",
              "        0.        , 0.        , 0.        , 0.        , 0.        ,\n",
              "        0.        , 0.        , 0.        , 0.        , 0.        ,\n",
              "        0.        , 0.        , 0.        , 0.        , 0.        ,\n",
              "        0.        , 0.        , 0.        ],\n",
              "       [0.        , 0.        , 0.        , 0.        , 0.        ,\n",
              "        0.        , 0.        , 0.        , 0.        , 0.        ,\n",
              "        0.        , 0.        , 0.        , 0.        , 0.        ,\n",
              "        0.        , 0.        , 0.        , 0.        , 0.        ,\n",
              "        0.        , 0.        , 0.        , 0.        , 0.        ,\n",
              "        0.        , 0.        , 0.        ],\n",
              "       [0.        , 0.        , 0.        , 0.        , 0.        ,\n",
              "        0.        , 0.        , 0.        , 0.        , 0.        ,\n",
              "        0.        , 0.        , 0.        , 0.        , 0.        ,\n",
              "        0.        , 0.        , 0.        , 0.        , 0.        ,\n",
              "        0.        , 0.        , 0.        , 0.        , 0.        ,\n",
              "        0.        , 0.        , 0.        ],\n",
              "       [0.        , 0.        , 0.        , 0.        , 0.        ,\n",
              "        0.        , 0.        , 0.        , 0.        , 0.        ,\n",
              "        0.        , 0.        , 0.        , 0.        , 0.        ,\n",
              "        0.        , 0.        , 0.        , 0.        , 0.        ,\n",
              "        0.        , 0.        , 0.        , 0.        , 0.        ,\n",
              "        0.        , 0.        , 0.        ],\n",
              "       [0.        , 0.        , 0.        , 0.        , 0.        ,\n",
              "        0.        , 0.        , 0.        , 0.        , 0.        ,\n",
              "        0.        , 0.        , 0.        , 0.        , 0.        ,\n",
              "        0.        , 0.83921569, 0.        , 0.        , 0.        ,\n",
              "        0.        , 0.        , 0.        , 0.        , 0.        ,\n",
              "        0.        , 0.        , 0.        ],\n",
              "       [0.        , 0.        , 0.        , 0.        , 0.        ,\n",
              "        0.        , 0.        , 0.        , 0.        , 0.        ,\n",
              "        0.        , 0.        , 0.        , 0.        , 0.        ,\n",
              "        0.        , 0.84705882, 0.        , 0.        , 0.        ,\n",
              "        0.        , 0.        , 0.        , 0.        , 0.        ,\n",
              "        0.        , 0.        , 0.        ],\n",
              "       [0.        , 0.        , 0.        , 0.        , 0.        ,\n",
              "        0.        , 0.        , 0.47843137, 0.        , 0.        ,\n",
              "        0.        , 0.        , 0.        , 0.        , 0.        ,\n",
              "        0.        , 0.83529412, 0.        , 0.        , 0.        ,\n",
              "        0.        , 0.        , 0.        , 0.        , 0.        ,\n",
              "        0.        , 0.        , 0.        ],\n",
              "       [0.        , 0.        , 0.        , 0.        , 0.        ,\n",
              "        0.        , 0.        , 0.69803922, 0.        , 0.        ,\n",
              "        0.        , 0.        , 0.        , 0.        , 0.        ,\n",
              "        0.        , 0.84705882, 0.        , 0.        , 0.        ,\n",
              "        0.        , 0.        , 0.        , 0.        , 0.        ,\n",
              "        0.        , 0.        , 0.        ],\n",
              "       [0.        , 0.        , 0.        , 0.        , 0.        ,\n",
              "        0.        , 0.07058824, 0.62745098, 0.        , 0.        ,\n",
              "        0.        , 0.        , 0.        , 0.        , 0.        ,\n",
              "        0.        , 0.83137255, 0.43921569, 0.        , 0.        ,\n",
              "        0.        , 0.        , 0.        , 0.        , 0.        ,\n",
              "        0.        , 0.        , 0.        ],\n",
              "       [0.        , 0.        , 0.        , 0.        , 0.        ,\n",
              "        0.        , 0.66666667, 0.57254902, 0.        , 0.        ,\n",
              "        0.        , 0.        , 0.        , 0.        , 0.        ,\n",
              "        0.        , 0.83137255, 0.58431373, 0.        , 0.        ,\n",
              "        0.        , 0.        , 0.        , 0.        , 0.        ,\n",
              "        0.        , 0.        , 0.        ],\n",
              "       [0.        , 0.        , 0.        , 0.        , 0.        ,\n",
              "        0.        , 0.7254902 , 0.51764706, 0.        , 0.        ,\n",
              "        0.        , 0.        , 0.        , 0.        , 0.40784314,\n",
              "        0.57647059, 0.87843137, 0.81568627, 0.        , 0.        ,\n",
              "        0.        , 0.        , 0.        , 0.        , 0.        ,\n",
              "        0.        , 0.        , 0.        ],\n",
              "       [0.        , 0.        , 0.        , 0.        , 0.        ,\n",
              "        0.        , 0.77647059, 0.49803922, 0.        , 0.        ,\n",
              "        0.        , 0.        , 0.13333333, 0.80392157, 0.81176471,\n",
              "        0.69411765, 0.82352941, 0.63137255, 0.        , 0.        ,\n",
              "        0.        , 0.        , 0.        , 0.        , 0.        ,\n",
              "        0.        , 0.        , 0.        ],\n",
              "       [0.        , 0.        , 0.        , 0.        , 0.        ,\n",
              "        0.        , 0.77254902, 0.49411765, 0.        , 0.        ,\n",
              "        0.63137255, 0.80392157, 0.67058824, 0.47058824, 0.        ,\n",
              "        0.        , 0.61960784, 0.69803922, 0.        , 0.        ,\n",
              "        0.        , 0.        , 0.        , 0.        , 0.        ,\n",
              "        0.        , 0.        , 0.        ],\n",
              "       [0.        , 0.        , 0.        , 0.        , 0.        ,\n",
              "        0.        , 0.69411765, 0.78823529, 0.78823529, 0.82745098,\n",
              "        0.61960784, 0.        , 0.        , 0.        , 0.        ,\n",
              "        0.        , 0.        , 0.76470588, 0.        , 0.        ,\n",
              "        0.        , 0.        , 0.        , 0.        , 0.        ,\n",
              "        0.        , 0.        , 0.        ],\n",
              "       [0.        , 0.        , 0.        , 0.        , 0.        ,\n",
              "        0.        , 0.        , 0.        , 0.        , 0.        ,\n",
              "        0.        , 0.        , 0.        , 0.        , 0.        ,\n",
              "        0.        , 0.        , 0.79607843, 0.        , 0.        ,\n",
              "        0.        , 0.        , 0.        , 0.        , 0.        ,\n",
              "        0.        , 0.        , 0.        ],\n",
              "       [0.        , 0.        , 0.        , 0.        , 0.        ,\n",
              "        0.        , 0.        , 0.        , 0.        , 0.        ,\n",
              "        0.        , 0.        , 0.        , 0.        , 0.        ,\n",
              "        0.        , 0.        , 0.81960784, 0.        , 0.        ,\n",
              "        0.        , 0.        , 0.        , 0.        , 0.        ,\n",
              "        0.        , 0.        , 0.        ],\n",
              "       [0.        , 0.        , 0.        , 0.        , 0.        ,\n",
              "        0.        , 0.        , 0.        , 0.        , 0.        ,\n",
              "        0.        , 0.        , 0.        , 0.        , 0.        ,\n",
              "        0.        , 0.        , 0.83137255, 0.        , 0.        ,\n",
              "        0.        , 0.        , 0.        , 0.        , 0.        ,\n",
              "        0.        , 0.        , 0.        ],\n",
              "       [0.        , 0.        , 0.        , 0.        , 0.        ,\n",
              "        0.        , 0.        , 0.        , 0.        , 0.        ,\n",
              "        0.        , 0.        , 0.        , 0.        , 0.        ,\n",
              "        0.        , 0.        , 0.83137255, 0.        , 0.        ,\n",
              "        0.        , 0.        , 0.        , 0.        , 0.        ,\n",
              "        0.        , 0.        , 0.        ],\n",
              "       [0.        , 0.        , 0.        , 0.        , 0.        ,\n",
              "        0.        , 0.        , 0.        , 0.        , 0.        ,\n",
              "        0.        , 0.        , 0.        , 0.        , 0.        ,\n",
              "        0.        , 0.        , 0.82745098, 0.        , 0.        ,\n",
              "        0.        , 0.        , 0.        , 0.        , 0.        ,\n",
              "        0.        , 0.        , 0.        ],\n",
              "       [0.        , 0.        , 0.        , 0.        , 0.        ,\n",
              "        0.        , 0.        , 0.        , 0.        , 0.        ,\n",
              "        0.        , 0.        , 0.        , 0.        , 0.        ,\n",
              "        0.        , 0.        , 0.81176471, 0.23921569, 0.        ,\n",
              "        0.        , 0.        , 0.        , 0.        , 0.        ,\n",
              "        0.        , 0.        , 0.        ],\n",
              "       [0.        , 0.        , 0.        , 0.        , 0.        ,\n",
              "        0.        , 0.        , 0.        , 0.        , 0.        ,\n",
              "        0.        , 0.        , 0.        , 0.        , 0.        ,\n",
              "        0.        , 0.        , 0.74901961, 0.6627451 , 0.        ,\n",
              "        0.        , 0.        , 0.        , 0.        , 0.        ,\n",
              "        0.        , 0.        , 0.        ],\n",
              "       [0.        , 0.        , 0.        , 0.        , 0.        ,\n",
              "        0.        , 0.        , 0.        , 0.        , 0.        ,\n",
              "        0.        , 0.        , 0.        , 0.        , 0.        ,\n",
              "        0.        , 0.        , 0.6627451 , 0.75294118, 0.        ,\n",
              "        0.        , 0.        , 0.        , 0.        , 0.        ,\n",
              "        0.        , 0.        , 0.        ],\n",
              "       [0.        , 0.        , 0.        , 0.        , 0.        ,\n",
              "        0.        , 0.        , 0.        , 0.        , 0.        ,\n",
              "        0.        , 0.        , 0.        , 0.        , 0.        ,\n",
              "        0.        , 0.        , 0.63137255, 0.83529412, 0.        ,\n",
              "        0.        , 0.        , 0.        , 0.        , 0.        ,\n",
              "        0.        , 0.        , 0.        ],\n",
              "       [0.        , 0.        , 0.        , 0.        , 0.        ,\n",
              "        0.        , 0.        , 0.        , 0.        , 0.        ,\n",
              "        0.        , 0.        , 0.        , 0.        , 0.        ,\n",
              "        0.        , 0.        , 0.        , 0.        , 0.        ,\n",
              "        0.        , 0.        , 0.        , 0.        , 0.        ,\n",
              "        0.        , 0.        , 0.        ],\n",
              "       [0.        , 0.        , 0.        , 0.        , 0.        ,\n",
              "        0.        , 0.        , 0.        , 0.        , 0.        ,\n",
              "        0.        , 0.        , 0.        , 0.        , 0.        ,\n",
              "        0.        , 0.        , 0.        , 0.        , 0.        ,\n",
              "        0.        , 0.        , 0.        , 0.        , 0.        ,\n",
              "        0.        , 0.        , 0.        ],\n",
              "       [0.        , 0.        , 0.        , 0.        , 0.        ,\n",
              "        0.        , 0.        , 0.        , 0.        , 0.        ,\n",
              "        0.        , 0.        , 0.        , 0.        , 0.        ,\n",
              "        0.        , 0.        , 0.        , 0.        , 0.        ,\n",
              "        0.        , 0.        , 0.        , 0.        , 0.        ,\n",
              "        0.        , 0.        , 0.        ],\n",
              "       [0.        , 0.        , 0.        , 0.        , 0.        ,\n",
              "        0.        , 0.        , 0.        , 0.        , 0.        ,\n",
              "        0.        , 0.        , 0.        , 0.        , 0.        ,\n",
              "        0.        , 0.        , 0.        , 0.        , 0.        ,\n",
              "        0.        , 0.        , 0.        , 0.        , 0.        ,\n",
              "        0.        , 0.        , 0.        ]])"
            ]
          },
          "metadata": {},
          "execution_count": 65
        }
      ]
    },
    {
      "cell_type": "code",
      "source": [
        "img_resize_flat=img_resize.reshape(1,28*28)\n",
        "img_resize_flat.shape"
      ],
      "metadata": {
        "colab": {
          "base_uri": "https://localhost:8080/"
        },
        "id": "fcq1XeU4Pld6",
        "outputId": "6f55ce7c-d144-4dca-e7aa-246f46118d24"
      },
      "execution_count": 66,
      "outputs": [
        {
          "output_type": "execute_result",
          "data": {
            "text/plain": [
              "(1, 784)"
            ]
          },
          "metadata": {},
          "execution_count": 66
        }
      ]
    },
    {
      "cell_type": "code",
      "source": [
        "prediction =model.predict(img_resize_flat)"
      ],
      "metadata": {
        "colab": {
          "base_uri": "https://localhost:8080/"
        },
        "id": "6Evx5M86P4p7",
        "outputId": "e25463ae-2520-4dec-9ed7-8ddf25aa3712"
      },
      "execution_count": 67,
      "outputs": [
        {
          "output_type": "stream",
          "name": "stdout",
          "text": [
            "1/1 [==============================] - 0s 48ms/step\n"
          ]
        }
      ]
    },
    {
      "cell_type": "code",
      "source": [
        "prediction"
      ],
      "metadata": {
        "colab": {
          "base_uri": "https://localhost:8080/"
        },
        "id": "JaYO0_fdQDcD",
        "outputId": "0942d281-3462-4e6d-923d-ecbb2c6a5453"
      },
      "execution_count": 68,
      "outputs": [
        {
          "output_type": "execute_result",
          "data": {
            "text/plain": [
              "array([[0.01362838, 0.5919432 , 0.04324045, 0.27421913, 0.8853785 ,\n",
              "        0.23263477, 0.01027809, 0.3345963 , 0.36253998, 0.6440052 ]],\n",
              "      dtype=float32)"
            ]
          },
          "metadata": {},
          "execution_count": 68
        }
      ]
    },
    {
      "cell_type": "code",
      "source": [
        "np.argmax(prediction)"
      ],
      "metadata": {
        "colab": {
          "base_uri": "https://localhost:8080/"
        },
        "id": "kH-4WuwjQHcj",
        "outputId": "8f71acbc-149e-47ba-ccc9-2b815e578e21"
      },
      "execution_count": 69,
      "outputs": [
        {
          "output_type": "execute_result",
          "data": {
            "text/plain": [
              "4"
            ]
          },
          "metadata": {},
          "execution_count": 69
        }
      ]
    },
    {
      "cell_type": "code",
      "source": [],
      "metadata": {
        "id": "oTTv6irRQNYK"
      },
      "execution_count": null,
      "outputs": []
    }
  ]
}